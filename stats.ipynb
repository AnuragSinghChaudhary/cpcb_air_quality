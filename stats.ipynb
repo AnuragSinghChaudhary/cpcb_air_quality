{
 "cells": [
  {
   "cell_type": "markdown",
   "metadata": {},
   "source": [
    "## Useful Links\n",
    "- http://www.cpcb.gov.in/CAAQM/frmUserAvgReportCriteria.aspx\n",
    "- http://www.cpcb.gov.in/CAAQM/mapPage/frmindiamap.aspx\n",
    "\n",
    "### Make Use of Beautiful Soup to automate fetching data\n",
    "- Historic Annual PM2.5, PM10 Plot\n",
    "    - INDIA - National\n",
    "    - Delhi NCR\n",
    "    - Delhi Location wise\n",
    "    - Gurgaon"
   ]
  },
  {
   "cell_type": "markdown",
   "metadata": {},
   "source": [
    "###Mechanize Links:\n",
    "   - http://www.search.sourceforge.net/mechanize/\n",
    "   - Forms Example: http://www.search.sourceforge.net/mechanize/forms.html\n",
    "   - BSoup Input Parsing: http://stackoverflow.com/questions/23001678/python-beautiful-soup-form-input-parsing"
   ]
  },
  {
   "cell_type": "code",
   "execution_count": 1,
   "metadata": {
    "collapsed": false
   },
   "outputs": [],
   "source": [
    "from bs4 import BeautifulSoup\n",
    "import mechanize\n",
    "import re"
   ]
  },
  {
   "cell_type": "code",
   "execution_count": 2,
   "metadata": {
    "collapsed": false
   },
   "outputs": [],
   "source": [
    "url = 'http://www.cpcb.gov.in/CAAQM/frmUserAvgReportCriteria.aspx'"
   ]
  },
  {
   "cell_type": "code",
   "execution_count": 3,
   "metadata": {
    "collapsed": false
   },
   "outputs": [],
   "source": [
    "br = mechanize.Browser()\n",
    "br.set_handle_robots(False)\n",
    "r1 = br.open(url)\n",
    "# print r1.read()  # body\n",
    "forms = mechanize.ParseResponse(r1, backwards_compat=False)\n",
    "form = forms[0]\n",
    "# print form\n",
    "\n",
    "form[\"ddlState\"] = [\"1\",]\n",
    "r1 = br.open(form.click())\n",
    "forms = mechanize.ParseResponse(r1, backwards_compat=False)\n",
    "form = forms[0]\n",
    "\n",
    "form[\"ddlCity\"] = [\"21\",]\n",
    "r1 = br.open(form.click())\n",
    "forms = mechanize.ParseResponse(r1, backwards_compat=False)\n",
    "form = forms[0]\n",
    "\n",
    "form[\"ddlStation\"] = [\"96\",]\n",
    "r1 = br.open(form.click())\n",
    "forms = mechanize.ParseResponse(r1, backwards_compat=False)\n",
    "form = forms[0]\n",
    "\n",
    "form[\"lstBoxChannelLeft\"] = [\"1715\",]\n",
    "r1 = br.open(form.click())\n",
    "forms = mechanize.ParseResponse(r1, backwards_compat=False)\n",
    "form = forms[0]\n",
    "\n",
    "form[\"ddlCriteria\"] = [\"0\",]\n",
    "r1 = br.open(form.click())\n",
    "forms = mechanize.ParseResponse(r1, backwards_compat=False)\n",
    "form = forms[0]\n",
    "\n",
    "form[\"txtYear\"] = \"2013\"\n",
    "form[\"txtYearTo\"] = \"2017\"\n",
    "r1 = br.open(form.click())\n",
    "forms = mechanize.ParseResponse(r1, backwards_compat=False)\n",
    "form = forms[0]\n",
    "\n",
    "form[\"btnSubmit\"] = \"True\"\n",
    "r1 = br.open(form.click())\n",
    "br.select_form(nr=0)\n",
    "r1 = br.submit()"
   ]
  },
  {
   "cell_type": "code",
   "execution_count": 83,
   "metadata": {
    "collapsed": false
   },
   "outputs": [],
   "source": [
    "def getOptions(param, form):\n",
    "    return re.findall(\"{}=\\[(.+)\\]\".format(param), str(form))\n",
    "\n",
    "#     Example Usage: \n",
    "#     soup = BeautifulSoup(html)\n",
    "#     getMap(soup, \"ddlState\")\n",
    "def getMap(soup, ty):\n",
    "    select_node = soup.findAll('select', attrs={'name': ty})\n",
    "    if not select_node:\n",
    "        select_node = soup.findAll('select', attrs={'id': ty})\n",
    "    print select_node\n",
    "    option_map = {}\n",
    "    if select_node:\n",
    "        for option in select_node[0].findAll('option'):\n",
    "            option_map[option['value']] = option.text\n",
    "    return option_map\n",
    "\n",
    "def getPM25Id(html):\n",
    "    return re.findall(\"<option value=(.+)>PM2\\.5(.+)</option>\", str(html))\n",
    "    \n",
    "def getStations(ddlState, ddlCity):\n",
    "    br = mechanize.Browser()\n",
    "    br.set_handle_robots(False)\n",
    "    res = br.open(url)\n",
    "    forms = mechanize.ParseResponse(res, backwards_compat=False)\n",
    "    form = forms[0]\n",
    "    # State\n",
    "    form[\"ddlState\"] = [\"{}\".format(ddlState),]\n",
    "    form, html = updateForm(br, form)\n",
    "    # City\n",
    "    form[\"ddlCity\"] = [\"{}\".format(ddlCity),]\n",
    "    form, html = updateForm(br, form)\n",
    "    \n",
    "    options = getOptions(\"ddlStation\", form)\n",
    "    options = options[0].split(',')[1:]\n",
    "    options = map(lambda x: x.strip(), options)\n",
    "    stations = options\n",
    "    print \"Stations for state = {} and city = {}:\".format(ddlState, ddlCity), stations\n",
    "    return stations\n",
    "\n",
    "def getData():\n",
    "    stations = getStations(\"6\", \"85\")\n",
    "    soups = []\n",
    "    #\n",
    "    for station in stations:\n",
    "        br = mechanize.Browser()\n",
    "        br.set_handle_robots(False)\n",
    "        res = br.open(url)\n",
    "        forms = mechanize.ParseResponse(res, backwards_compat=False)\n",
    "        form = forms[0]\n",
    "        # Delhi\n",
    "        form[\"ddlState\"] = [\"6\",]\n",
    "        form, html = updateForm(br, form)\n",
    "        # Delhi\n",
    "        form[\"ddlCity\"] = [\"85\",]\n",
    "        form, html = updateForm(br, form)\n",
    "\n",
    "        form[\"ddlStation\"] = [\"{}\".format(station),]\n",
    "        form, html = updateForm(br, form)\n",
    "        \n",
    "#         print html\n",
    "        print getPM25Id(html)\n",
    "        PM25Id = getPM25Id(html)[0][0][1:-1]\n",
    "        print \"PM2.5 Id =\", PM25Id\n",
    "\n",
    "        form[\"lstBoxChannelLeft\"] = [\"{}\".format(PM25Id),]\n",
    "        form, html = updateForm(br, form)\n",
    "\n",
    "        form[\"ddlCriteria\"] = [\"0\",]\n",
    "        form, html = updateForm(br, form)\n",
    "\n",
    "        form[\"txtYear\"] = \"2013\"\n",
    "        form[\"txtYearTo\"] = \"2017\"\n",
    "        form, html = updateForm(br, form)\n",
    "\n",
    "        form[\"btnSubmit\"] = \"True\"\n",
    "        form, html = updateForm(br, form)\n",
    "\n",
    "        br.select_form(\"form1\")\n",
    "        res = br.submit(name='btnSubmit')\n",
    "        html = res.read()\n",
    "        soup = BeautifulSoup(html, 'html.parser')\n",
    "        soups.append(soup)\n",
    "        if len(soups) >= 2:\n",
    "            break\n",
    "        \n",
    "    return soups\n",
    "\n",
    "def updateForm(br, form):\n",
    "    res = br.open(form.click())\n",
    "    html = res.get_data()\n",
    "    forms = mechanize.ParseResponse(res, backwards_compat=False)\n",
    "    form = forms[0]\n",
    "    return form, html\n",
    "\n",
    "def getValsHtml(table):\n",
    "    data = []\n",
    "    rows = table.find_all('tr')\n",
    "    for row in rows:\n",
    "        cols = row.find_all('td')\n",
    "        cols = [ele.text.strip() for ele in cols]\n",
    "        data.append([ele for ele in cols if ele]) # Get rid of empty values\n",
    "    vals = re.findall(\"\\d+\\.\\d+\", data[0][0])[:-1]\n",
    "    data = []\n",
    "    for val in vals:\n",
    "        yr = val[:4]\n",
    "        data.append([yr, val[4:]])\n",
    "    return data"
   ]
  },
  {
   "cell_type": "code",
   "execution_count": 84,
   "metadata": {
    "collapsed": false
   },
   "outputs": [
    {
     "name": "stdout",
     "output_type": "stream",
     "text": [
      "Stations for state = 6 and city = 85: ['1', '2', '3', '4', '5', '6', '7', '45', '46', '47', '51', '52', '53', '54', '55', '58']\n",
      "[('\"506\"', '(Dust (PM2.5))')]\n",
      "PM2.5 Id = 506\n",
      "[('\"507\"', '(PM2.5)')]\n",
      "PM2.5 Id = 507\n"
     ]
    },
    {
     "data": {
      "text/plain": [
       "[\\n<!DOCTYPE html PUBLIC \"-//W3C//DTD XHTML 1.0 Transitional//EN\" \"http://www.w3.org/TR/xhtml1/DTD/xhtml1-transitional.dtd\">\\n\\n<html xmlns=\"http://www.w3.org/1999/xhtml\">\\n<head><title>\\r\\n\\t::CPCB Air Quality Report::\\r\\n</title><link href=\"style.css\" rel=\"stylesheet\" type=\"text/css\"/></head>\\n<body bottommargin=\"0\" leftmargin=\"0\" rightmargin=\"0\" topmargin=\"0\">\\n<form action=\"frmReportdisplay.aspx\" id=\"form1\" method=\"post\" name=\"form1\">\\n<input id=\"__VIEWSTATE\" name=\"__VIEWSTATE\" type=\"hidden\" value=\"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\"/>\\n<script src=\"/CAAQM/ScriptResource.axd?d=H6NpsF2dFDRs3zZFnsFTOVaJSRMs-hUp9saZoui0S2ZQi07MSNPm4BeJb5wDLrti17kuQkQZF_dSN7c4-59sVmRadYz7nMyo_x5yz1V1seo1&amp;t=ffffffffe7c165ef\" type=\"text/javascript\"></script>\\n<div><table align=\"center\" border=\"0\" cellpadding=\"0\" cellspacing=\"0\" width=\"1003\">\\n<tr>\\n<td><table border=\"0\" cellpadding=\"0\" cellspacing=\"0\" width=\"100%\">\\n<tr>\\n<td><img height=\"120\" src=\"images/cpcbheader.jpg\" width=\"1003\"/></td>\\n</tr>\\n<tr>\\n<td><table border=\"0\" cellpadding=\"0\" cellspacing=\"0\" width=\"100%\">\\n<tr>\\n<td class=\"grayleft\" valign=\"top\" width=\"21\">\\xa0</td>\\n<td><table align=\"center\" border=\"0\" cellpadding=\"10\" cellspacing=\"0\" width=\"100%\">\\n<tr>\\n<td><table border=\"0\" cellpadding=\"0\" cellspacing=\"0\" width=\"100%\">\\n<tr>\\n<td width=\"94%\"><table border=\"0\" cellpadding=\"0\" cellspacing=\"0\" width=\"100%\">\\n<tr>\\n<td width=\"1%\">\\xa0</td>\\n<td valign=\"top\" width=\"58%\"><table border=\"0\" cellpadding=\"0\" cellspacing=\"2\" width=\"100%\">\\n<tr>\\n<td>\\n<table border=\"0\" cellpadding=\"0\" cellspacing=\"3\" style=\"text-align: center\" width=\"100%\">\\n<tr>\\n<td colspan=\"4\">\\n<table border=\"0\" cellpadding=\"0\" cellspacing=\"0\" width=\"100%\">\\n<tr><td style=\"height: 15px\">\\xa0</td></tr>\\n<tr>\\n<td colspan=\"4\" style=\"height: 186px\">\\n<table align=\"center\" width=\"96%\">\\n<tr>\\n<td colspan=\"2\" width=\"100%\">\\n<table align=\"center\" border=\"0\" bordercolor=\"#dcdcdc\" cellpadding=\"0\" cellspacing=\"0\" width=\"100%\">\\n<tr>\\n<td align=\"center\" class=\"ReportTopHeading\" colspan=\"2\" height=\"20\">CONTINUOUS AMBIENT AIR QUALITY</td>\\n</tr>\\n<tr>\\n<td align=\"center\" colspan=\"2\" height=\"15\">\\xa0</td>\\n</tr>\\n</table>\\n</td>\\n</tr>\\n<tr>\\n<td align=\"right\" colspan=\"2\" style=\"height: 59px\">\\n<table border=\"0\" cellpadding=\"0\" cellspacing=\"0\" width=\"100%\">\\n<tr>\\n<td width=\"65%\">\\xa0</td>\\n<td align=\"left\" width=\"35%\"> <span class=\"reportlefttext\" id=\"Label1\">Date :</span>\\n<span class=\"reportdatetimerighttext\" id=\"lblDate\">Saturday, February 04, 2017</span></td>\\n</tr>\\n<tr>\\n<td width=\"65%\">\\r\\n                        \\r\\n                        \\xa0</td>\\n<td align=\"left\" width=\"35%\"><span class=\"reportlefttext\" id=\"Label3\">Time :</span>\\n<span class=\"reportdatetimerighttext\" id=\"lblTime\">5:02:00 PM</span></td>\\n</tr>\\n</table>\\n</td>\\n</tr>\\n<tr>\\n<td align=\"left\" colspan=\"2\">\\n<table border=\"0\" bordercolor=\"gainsboro\" cellpadding=\"0\" cellspacing=\"0\" width=\"100%\">\\n<tr>\\n<td>\\n<span class=\"reportlefttext\" id=\"Label2\">State :</span>\\n<span class=\"MoreDatareportrighttext\" id=\"lblState\">Delhi</span></td>\\n</tr>\\n<tr>\\n<td style=\"height: 19px\">\\n<span class=\"reportlefttext\" id=\"Label6\">City :</span>\\n<span class=\"MoreDatareportrighttext\" id=\"lblCity\">Delhi</span></td>\\n</tr>\\n<tr>\\n<td>\\n<span class=\"reportlefttext\" id=\"Label5\">Station :</span>\\n<span class=\"MoreDatareportrighttext\" id=\"lblStation\">1</span></td>\\n</tr>\\n<tr>\\n<td>\\n<span class=\"reportlefttext\" id=\"Label7\">Parameter :</span>\\n<span class=\"MoreDatareportrighttext\" id=\"lblParameter\">Dust (PM2.5)</span></td>\\n</tr>\\n<tr>\\n<td>\\n<span class=\"reportlefttext\" id=\"Label9\">Average Period :</span>\\n<span class=\"MoreDatareportrighttext\" id=\"lblAvgPeriod\"> Annual Average</span></td>\\n</tr>\\n<tr>\\n<td>\\n<span class=\"reportlefttext\" id=\"Label11\">Date :</span>\\n<span class=\"reportlefttext\" id=\"Label17\">From  </span><span class=\"MoreDatareportrighttext\" id=\"lblDateFrom\">2013</span>\\n<span class=\"reportlefttext\" id=\"Label14\">To  </span>\\n<span class=\"MoreDatareportrighttext\" id=\"lblDateTo\">2017</span></td>\\n</tr>\\n<tr>\\n<td align=\"center\">\\r\\n                            \\xa0<span class=\"lblMessage\" id=\"lblMessage\"></span>\\n<div id=\"UpdateProgress1\" style=\"display:none;\">\\n<img border=\"0\" id=\"Image1\" src=\"images/progress.gif\"/>\\n<br/>\\n<span class=\"ProgressMessage\">Please wait......</span>\\n</div>\\n</td>\\n</tr>\\n<tr>\\n<td>\\n<div id=\"UpdatePanel1\">\\n<table border=\"0\" cellpadding=\"0\" cellspacing=\"0\" width=\"100%\">\\n<tr>\\n<td align=\"right\">\\n<a class=\"linkcss1\" disabled=\"disabled\" id=\"btnPrevious1\">&lt;&lt; Previous</a>\\r\\n                                            \\xa0<a class=\"linkcss1\" disabled=\"disabled\" id=\"btnNext1\">Next &gt;&gt;</a>\\n</td>\\n</tr>\\n<tr>\\n<td>\\n<div>\\n</div>\\n<span id=\"lblBlank\"><table border=\"1\" bordercolor=\"Gray\" cellpadding=\"0\" cellspacing=\"0\" width=\"100%\"><tr class=\"gridstationheader\"><td>\\xa0</td></tr><tr style=\"font-family:verdana;font-size:14px;color:Black;padding:5px;margin: 1 1 1 1;background-color:#f8f8f8;\"><td align=\"middle\" height=\"50px\">There is no data available!</td></tr></table></span>\\n<span id=\"lblReportComparisionData\"></span></td>\\n</tr>\\n<tr>\\n<td align=\"right\">\\n<a class=\"linkcss1\" disabled=\"disabled\" id=\"btnPrevious2\">&lt;&lt; Previous</a>\\r\\n                                            \\xa0<a class=\"linkcss1\" disabled=\"disabled\" id=\"btnNext2\">Next &gt;&gt;</a>\\n</td>\\n</tr>\\n</table>\\n</div>\\r\\n                            \\xa0 \\xa0\\r\\n                        </td>\\n</tr>\\n</table>\\n</td>\\n</tr>\\n</table>\\n</td></tr>\\n</table>\\n<input border=\"0\" id=\"btnClose\" name=\"btnClose\" src=\"images/close.png\" type=\"image\"/>\\n</td>\\n</tr>\\n<tr>\\n<td colspan=\"2\" style=\" height: 13px\">\\xa0</td>\\n</tr>\\n</table>\\n</td>\\n</tr>\\n</table></td>\\n<td width=\"1%\">\\xa0</td>\\n</tr>\\n</table></td>\\n</tr>\\n</table></td>\\n</tr>\\n</table></td>\\n<td class=\"grayright\" valign=\"top\" width=\"21\">\\xa0</td>\\n</tr>\\n<tr>\\n<td bgcolor=\"#E2E7ED\" valign=\"top\">\\xa0</td>\\n<td bgcolor=\"#E2E7ED\">\\n<table cellpadding=\"0\" cellspacing=\"0\" class=\"footerstyle\" width=\"100%\">\\n<tr>\\n<td>\\xa0</td>\\n</tr>\\n<tr><td align=\"center\" style=\"height: 12px\">Copyright @ Central Pollution Control Board. All Rights Reserved.<a class=\"disclamerlink\" href=\"frmUserDisclamer.aspx\" target=\"_blank\">| Disclamer</a></td></tr>\\n</table>\\n</td>\\n<td bgcolor=\"#E2E7ED\" valign=\"top\">\\xa0</td>\\n</tr>\\n<tr>\\n<td bgcolor=\"#E2E7ED\" valign=\"top\">\\xa0</td>\\n<td bgcolor=\"#E2E7ED\">\\xa0</td>\\n<td bgcolor=\"#E2E7ED\" valign=\"top\">\\xa0</td>\\n</tr>\\n</table></td>\\n</tr>\\n</table></td>\\n</tr>\\n</table>\\n</div>\\n<script type=\"text/javascript\">\\r\\n//<![CDATA[\\r\\nSys.Application.initialize();\\r\\n//]]>\\r\\n</script>\\n</form>\\n</body>\\n</html>\\n,\n",
       " \\n<!DOCTYPE html PUBLIC \"-//W3C//DTD XHTML 1.0 Transitional//EN\" \"http://www.w3.org/TR/xhtml1/DTD/xhtml1-transitional.dtd\">\\n\\n<html xmlns=\"http://www.w3.org/1999/xhtml\">\\n<head><title>\\r\\n\\t::CPCB Air Quality Report::\\r\\n</title><link href=\"style.css\" rel=\"stylesheet\" type=\"text/css\"/></head>\\n<body bottommargin=\"0\" leftmargin=\"0\" rightmargin=\"0\" topmargin=\"0\">\\n<form action=\"frmReportdisplay.aspx\" id=\"form1\" method=\"post\" name=\"form1\">\\n<input id=\"__VIEWSTATE\" name=\"__VIEWSTATE\" type=\"hidden\" value=\"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\"/>\\n<script src=\"/CAAQM/ScriptResource.axd?d=H6NpsF2dFDRs3zZFnsFTOVaJSRMs-hUp9saZoui0S2ZQi07MSNPm4BeJb5wDLrti17kuQkQZF_dSN7c4-59sVmRadYz7nMyo_x5yz1V1seo1&amp;t=ffffffffe7c165ef\" type=\"text/javascript\"></script>\\n<div><table align=\"center\" border=\"0\" cellpadding=\"0\" cellspacing=\"0\" width=\"1003\">\\n<tr>\\n<td><table border=\"0\" cellpadding=\"0\" cellspacing=\"0\" width=\"100%\">\\n<tr>\\n<td><img height=\"120\" src=\"images/cpcbheader.jpg\" width=\"1003\"/></td>\\n</tr>\\n<tr>\\n<td><table border=\"0\" cellpadding=\"0\" cellspacing=\"0\" width=\"100%\">\\n<tr>\\n<td class=\"grayleft\" valign=\"top\" width=\"21\">\\xa0</td>\\n<td><table align=\"center\" border=\"0\" cellpadding=\"10\" cellspacing=\"0\" width=\"100%\">\\n<tr>\\n<td><table border=\"0\" cellpadding=\"0\" cellspacing=\"0\" width=\"100%\">\\n<tr>\\n<td width=\"94%\"><table border=\"0\" cellpadding=\"0\" cellspacing=\"0\" width=\"100%\">\\n<tr>\\n<td width=\"1%\">\\xa0</td>\\n<td valign=\"top\" width=\"58%\"><table border=\"0\" cellpadding=\"0\" cellspacing=\"2\" width=\"100%\">\\n<tr>\\n<td>\\n<table border=\"0\" cellpadding=\"0\" cellspacing=\"3\" style=\"text-align: center\" width=\"100%\">\\n<tr>\\n<td colspan=\"4\">\\n<table border=\"0\" cellpadding=\"0\" cellspacing=\"0\" width=\"100%\">\\n<tr><td style=\"height: 15px\">\\xa0</td></tr>\\n<tr>\\n<td colspan=\"4\" style=\"height: 186px\">\\n<table align=\"center\" width=\"96%\">\\n<tr>\\n<td colspan=\"2\" width=\"100%\">\\n<table align=\"center\" border=\"0\" bordercolor=\"#dcdcdc\" cellpadding=\"0\" cellspacing=\"0\" width=\"100%\">\\n<tr>\\n<td align=\"center\" class=\"ReportTopHeading\" colspan=\"2\" height=\"20\">CONTINUOUS AMBIENT AIR QUALITY</td>\\n</tr>\\n<tr>\\n<td align=\"center\" colspan=\"2\" height=\"15\">\\xa0</td>\\n</tr>\\n</table>\\n</td>\\n</tr>\\n<tr>\\n<td align=\"right\" colspan=\"2\" style=\"height: 59px\">\\n<table border=\"0\" cellpadding=\"0\" cellspacing=\"0\" width=\"100%\">\\n<tr>\\n<td width=\"65%\">\\xa0</td>\\n<td align=\"left\" width=\"35%\"> <span class=\"reportlefttext\" id=\"Label1\">Date :</span>\\n<span class=\"reportdatetimerighttext\" id=\"lblDate\">Saturday, February 04, 2017</span></td>\\n</tr>\\n<tr>\\n<td width=\"65%\">\\r\\n                        \\r\\n                        \\xa0</td>\\n<td align=\"left\" width=\"35%\"><span class=\"reportlefttext\" id=\"Label3\">Time :</span>\\n<span class=\"reportdatetimerighttext\" id=\"lblTime\">5:02:03 PM</span></td>\\n</tr>\\n</table>\\n</td>\\n</tr>\\n<tr>\\n<td align=\"left\" colspan=\"2\">\\n<table border=\"0\" bordercolor=\"gainsboro\" cellpadding=\"0\" cellspacing=\"0\" width=\"100%\">\\n<tr>\\n<td>\\n</td>\\n</tr>\\n<tr>\\n<td style=\"height: 19px\">\\n</td>\\n</tr>\\n<tr>\\n<td>\\n</td>\\n</tr>\\n<tr>\\n<td>\\n<span class=\"reportlefttext\" id=\"Label7\">Parameter :</span>\\n<span class=\"MoreDatareportrighttext\" id=\"lblParameter\">PM2.5</span></td>\\n</tr>\\n<tr>\\n<td>\\n<span class=\"reportlefttext\" id=\"Label9\">Average Period :</span>\\n<span class=\"MoreDatareportrighttext\" id=\"lblAvgPeriod\"> Annual Average</span></td>\\n</tr>\\n<tr>\\n<td>\\n<span class=\"reportlefttext\" id=\"Label11\">Date :</span>\\n<span class=\"reportlefttext\" id=\"Label17\">From  </span><span class=\"MoreDatareportrighttext\" id=\"lblDateFrom\">2013</span>\\n<span class=\"reportlefttext\" id=\"Label14\">To  </span>\\n<span class=\"MoreDatareportrighttext\" id=\"lblDateTo\">2017</span></td>\\n</tr>\\n<tr>\\n<td align=\"center\">\\r\\n                            \\xa0<span class=\"lblMessage\" id=\"lblMessage\"></span>\\n<div id=\"UpdateProgress1\" style=\"display:none;\">\\n<img border=\"0\" id=\"Image1\" src=\"images/progress.gif\"/>\\n<br/>\\n<span class=\"ProgressMessage\">Please wait......</span>\\n</div>\\n</td>\\n</tr>\\n<tr>\\n<td>\\n<div id=\"UpdatePanel1\">\\n<table border=\"0\" cellpadding=\"0\" cellspacing=\"0\" width=\"100%\">\\n<tr>\\n<td align=\"right\">\\n<a class=\"linkcss1\" disabled=\"disabled\" id=\"btnPrevious1\">&lt;&lt; Previous</a>\\r\\n                                            \\xa0<a class=\"linkcss1\" disabled=\"disabled\" id=\"btnNext1\">Next &gt;&gt;</a>\\n</td>\\n</tr>\\n<tr>\\n<td>\\n<div>\\n<table bgcolor=\"White\" border=\"0\" cellpadding=\"0\" cellspacing=\"0\" id=\"gvReportStation\" width=\"100%\">\\n<tr bgcolor=\"#DEDFDE\">\\n<td valign=\"top\"><font color=\"Black\">\\n<span id=\"gvReportStation_ctl03_lblChannelData\"><table border=\"1\" bordercolor=\"Gray\" cellpadding=\"0\" cellspacing=\"0\" width=\"100%\"><tr style=\"background-color:Gray;font-family:Arial;font-size:13px;color:White;font-weight:bold;vertical-align:top;text-align:left;padding:5px;\"><td colspan=\"7\">Delhi, Delhi, ITO ( Industrial Residential Rural and Other Area )</td></tr><tr style=\"background-color:White;font-family:Arial;font-size:11px;color:Black;font-weight:bold;vertical-align:top;text-align:center;padding:5px;\"><td width=\"30%\">Parameter</td><td width=\"6%\">Date</td><td width=\"10%\">Concentration</td><td width=\"5%\">Unit</td><td width=\"12%\">Prescribed Standard</td><td width=\"8%\">Exceeding Standard? (Yes/No)</td><td width=\"15%\">Remarks</td></tr><tr style=\"font-family:verdana;font-size:11px;color:Black;padding:5px;\\tmargin: 1 1 1 1;background-color:#f8f8f8;\"><td width=\"30%\">\\xa0PM<sub><sub>2</sub><sub>.</sub><sub>5</sub></sub>(PM<sub><sub>2</sub><sub>.</sub><sub>5</sub></sub>)</td><td width=\"6%\">\\xa02016</td><td align=\"right\" width=\"10%\">216.32</td><td align=\"right\" width=\"5%\">\\xa0\\xb5g/m\\xb3</td><td align=\"center\" width=\"12%\">NA</td><td align=\"center\" width=\"8%\">NA</td><td width=\"15%\">\\xa0</td></tr><tr style=\"font-family:verdana;font-size:11px;color:Black;padding:5px;\\tmargin: 1 1 1 1;background-color:#f8f8f8;\"><td width=\"30%\">\\xa0</td><td width=\"6%\">\\xa02017</td><td align=\"right\" width=\"10%\">170.78</td><td align=\"right\" width=\"5%\">\\xa0\\xb5g/m\\xb3</td><td align=\"center\" width=\"12%\">NA</td><td align=\"center\" width=\"8%\">NA</td><td width=\"15%\">\\xa0</td></tr><tr style=\"font-family:verdana;font-size:11px;color:Black;padding:5px;margin: 1 1 1 1;\\tbackground-color:White;\"><td colspan=\"7\"><span style=\"font-family:verdana;font-size:11px;font-weight:bold;color:Black;\">The Avearge value of </span><span style=\"font-family:verdana;font-size:11px;font-weight:bold;color:Red;\">PM2.5(PM2.5)</span><spanstyle='font-family:verdana;font-size:11px;font-weight:bold;color:black;'> is 193.55 \\xb5g/m\\xb3<br/></spanstyle='font-family:verdana;font-size:11px;font-weight:bold;color:black;'></td></tr></table></span>There is <span style=\"font-family:verdana;font-size:11px;font-weight:bold;color:Red;\">No</span> instance when data has exceeded Prescribed Standard of  <span style=\"font-family:verdana;font-size:11px;font-weight:bold;color:Red;\">PM2.5(PM2.5)</span>.</font></td></tr></table></div></td></tr></table></div></td></tr></table></td></tr></table></td></tr></table></td></tr></table></td></tr></table></td></tr></table></td></tr></table></td></tr></table></td></tr></table></td></tr></table></td></tr></table></div></form></body></html>\\n\\n\\n\\n\\n<span id=\"lblBlank\"></span>\\n<span id=\"lblReportComparisionData\"></span>\\n\\n<tr>\\n<td align=\"right\">\\n<a class=\"linkcss1\" disabled=\"disabled\" id=\"btnPrevious2\">&lt;&lt; Previous</a>\\r\\n                                            \\xa0<a class=\"linkcss1\" disabled=\"disabled\" id=\"btnNext2\">Next &gt;&gt;</a>\\n</td>\\n</tr>\\n\\n\\r\\n                            \\xa0 \\xa0\\r\\n                        \\n\\n\\n\\n\\n\\n\\n\\n<input border=\"0\" id=\"btnExportToWord\" name=\"btnExportToWord\" src=\"images/download.png\" type=\"image\"/>\\n<input border=\"0\" id=\"btnExport\" name=\"btnExport\" src=\"images/download_exel.png\" type=\"image\"/>\\n<input border=\"0\" id=\"btnClose\" name=\"btnClose\" src=\"images/close.png\" type=\"image\"/>\\n\\n\\n<tr>\\n<td colspan=\"2\" style=\" height: 13px\">\\xa0</td>\\n</tr>\\n\\n\\n\\n\\n<td width=\"1%\">\\xa0</td>\\n\\n\\n\\n\\n\\n\\n<td class=\"grayright\" valign=\"top\" width=\"21\">\\xa0</td>\\n\\n<tr>\\n<td bgcolor=\"#E2E7ED\" valign=\"top\">\\xa0</td>\\n<td bgcolor=\"#E2E7ED\">\\n<table cellpadding=\"0\" cellspacing=\"0\" class=\"footerstyle\" width=\"100%\">\\n<tr>\\n<td>\\xa0</td>\\n</tr>\\n<tr><td align=\"center\" style=\"height: 12px\">Copyright @ Central Pollution Control Board. All Rights Reserved.<a class=\"disclamerlink\" href=\"frmUserDisclamer.aspx\" target=\"_blank\">| Disclamer</a></td></tr>\\n</table>\\n</td>\\n<td bgcolor=\"#E2E7ED\" valign=\"top\">\\xa0</td>\\n</tr>\\n<tr>\\n<td bgcolor=\"#E2E7ED\" valign=\"top\">\\xa0</td>\\n<td bgcolor=\"#E2E7ED\">\\xa0</td>\\n<td bgcolor=\"#E2E7ED\" valign=\"top\">\\xa0</td>\\n</tr>\\n\\n\\n\\n\\n\\n\\n<script type=\"text/javascript\">\\r\\n//<![CDATA[\\r\\nSys.Application.initialize();\\r\\n//]]>\\r\\n</script>\\n\\n\\n\\n]"
      ]
     },
     "execution_count": 84,
     "metadata": {},
     "output_type": "execute_result"
    }
   ],
   "source": [
    "getData()"
   ]
  },
  {
   "cell_type": "code",
   "execution_count": 85,
   "metadata": {
    "collapsed": false
   },
   "outputs": [
    {
     "name": "stdout",
     "output_type": "stream",
     "text": [
      "Stations for state = 6 and city = 85: ['1', '2', '3', '4', '5', '6', '7', '45', '46', '47', '51', '52', '53', '54', '55', '58']\n",
      "[('\"506\"', '(Dust (PM2.5))')]\n",
      "PM2.5 Id = 506\n",
      "[('\"507\"', '(PM2.5)')]\n",
      "PM2.5 Id = 507\n",
      "No Data available for this station\n",
      "[[u'2.5', u''], [u'2.5', u''], [u'2016', u'216.32'], [u'2017', u'170.78'], [u'2.5', u''], [u'2.5', u''], [u'193.', u'55'], [u'2.5', u'']]\n"
     ]
    }
   ],
   "source": [
    "soups = getData()\n",
    "for soup in soups:\n",
    "    table = soup.find(id=\"gvReportStation\")\n",
    "    if table:\n",
    "        data = getValsHtml(table)\n",
    "        print data\n",
    "    else:\n",
    "        print \"No Data available for this station\""
   ]
  },
  {
   "cell_type": "code",
   "execution_count": 4,
   "metadata": {
    "collapsed": false
   },
   "outputs": [],
   "source": [
    "br.select_form(\"form1\")\n",
    "r1 = br.submit(name='btnSubmit')\n",
    "html = r1.read()\n",
    "soup = BeautifulSoup(html, 'html.parser')"
   ]
  },
  {
   "cell_type": "code",
   "execution_count": 15,
   "metadata": {
    "collapsed": false,
    "scrolled": false
   },
   "outputs": [],
   "source": []
  },
  {
   "cell_type": "code",
   "execution_count": 6,
   "metadata": {
    "collapsed": false
   },
   "outputs": [
    {
     "name": "stdout",
     "output_type": "stream",
     "text": [
      "2016 21.87\n",
      "2017 23.62\n"
     ]
    }
   ],
   "source": [
    "vals = re.findall(\"\\d+\\.\\d+\", data[0][0])[:-1]\n",
    "for val in vals:\n",
    "    yr = val[:4]\n",
    "    print yr, val[4:]"
   ]
  },
  {
   "cell_type": "code",
   "execution_count": null,
   "metadata": {
    "collapsed": true
   },
   "outputs": [],
   "source": []
  },
  {
   "cell_type": "code",
   "execution_count": null,
   "metadata": {
    "collapsed": true
   },
   "outputs": [],
   "source": []
  }
 ],
 "metadata": {
  "kernelspec": {
   "display_name": "Python 2",
   "language": "python",
   "name": "python2"
  },
  "language_info": {
   "codemirror_mode": {
    "name": "ipython",
    "version": 2
   },
   "file_extension": ".py",
   "mimetype": "text/x-python",
   "name": "python",
   "nbconvert_exporter": "python",
   "pygments_lexer": "ipython2",
   "version": "2.7.9"
  }
 },
 "nbformat": 4,
 "nbformat_minor": 0
}

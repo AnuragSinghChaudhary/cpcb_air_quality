{
 "cells": [
  {
   "cell_type": "markdown",
   "metadata": {},
   "source": [
    "## Useful Links\n",
    "- http://www.cpcb.gov.in/CAAQM/frmUserAvgReportCriteria.aspx\n",
    "- http://www.cpcb.gov.in/CAAQM/mapPage/frmindiamap.aspx\n",
    "\n",
    "### Make Use of Beautiful Soup to automate fetching data\n",
    "- Historic Annual PM2.5, PM10 Plot\n",
    "    - INDIA - National\n",
    "    - Delhi NCR\n",
    "    - Delhi Location wise\n",
    "    - Gurgaon"
   ]
  },
  {
   "cell_type": "markdown",
   "metadata": {},
   "source": [
    "###Mechanize Links:\n",
    "   - http://www.search.sourceforge.net/mechanize/\n",
    "   - Forms Example: http://www.search.sourceforge.net/mechanize/forms.html\n",
    "   - BSoup Input Parsing: http://stackoverflow.com/questions/23001678/python-beautiful-soup-form-input-parsing"
   ]
  },
  {
   "cell_type": "code",
   "execution_count": 1,
   "metadata": {
    "collapsed": false
   },
   "outputs": [],
   "source": [
    "from bs4 import BeautifulSoup\n",
    "import requests\n",
    "import mechanize\n",
    "import re"
   ]
  },
  {
   "cell_type": "code",
   "execution_count": 2,
   "metadata": {
    "collapsed": false
   },
   "outputs": [
    {
     "name": "stdout",
     "output_type": "stream",
     "text": [
      "[u'__VIEWSTATE', u'__EVENTVALIDATION', u'btnAdd', u'btnRemove', u'txtDateFrom', u'imgBtnFrom', u'txtDateTo', u'imgBtnTo', u'btnSubmit', u'btnCancel', u'btnClose']\n"
     ]
    }
   ],
   "source": [
    "url = 'http://www.cpcb.gov.in/CAAQM/frmUserAvgReportCriteria.aspx'\n",
    "r = requests.get(url)\n",
    "soup = BeautifulSoup(r.text, 'html.parser')\n",
    "\n",
    "print [(element['name']) for element in soup.find_all('input')]"
   ]
  },
  {
   "cell_type": "code",
   "execution_count": 3,
   "metadata": {
    "collapsed": false
   },
   "outputs": [],
   "source": [
    "br = mechanize.Browser()\n",
    "br.set_handle_robots(False)\n",
    "r1 = br.open(url)\n",
    "# print r1.read()  # body\n",
    "forms = mechanize.ParseResponse(r1, backwards_compat=False)\n",
    "form = forms[0]\n",
    "# print form\n",
    "\n",
    "form[\"ddlState\"] = [\"1\",]\n",
    "r1 = br.open(form.click())\n",
    "forms = mechanize.ParseResponse(r1, backwards_compat=False)\n",
    "form = forms[0]\n",
    "\n",
    "form[\"ddlCity\"] = [\"21\",]\n",
    "r1 = br.open(form.click())\n",
    "forms = mechanize.ParseResponse(r1, backwards_compat=False)\n",
    "form = forms[0]\n",
    "\n",
    "form[\"ddlStation\"] = [\"96\",]\n",
    "r1 = br.open(form.click())\n",
    "forms = mechanize.ParseResponse(r1, backwards_compat=False)\n",
    "form = forms[0]\n",
    "\n",
    "form[\"lstBoxChannelLeft\"] = [\"1715\",]\n",
    "r1 = br.open(form.click())\n",
    "forms = mechanize.ParseResponse(r1, backwards_compat=False)\n",
    "form = forms[0]\n",
    "\n",
    "form[\"ddlCriteria\"] = [\"0\",]\n",
    "r1 = br.open(form.click())\n",
    "forms = mechanize.ParseResponse(r1, backwards_compat=False)\n",
    "form = forms[0]\n",
    "\n",
    "form[\"txtYear\"] = \"2013\"\n",
    "form[\"txtYearTo\"] = \"2017\"\n",
    "r1 = br.open(form.click())\n",
    "forms = mechanize.ParseResponse(r1, backwards_compat=False)\n",
    "form = forms[0]\n",
    "\n",
    "form[\"btnSubmit\"] = \"True\"\n",
    "r1 = br.open(form.click())\n",
    "br.select_form(nr=0)\n",
    "r1 = br.submit()"
   ]
  },
  {
   "cell_type": "code",
   "execution_count": 81,
   "metadata": {
    "collapsed": false
   },
   "outputs": [],
   "source": [
    "def getOptions(param, form):\n",
    "    return re.findall(\"{}=\\[(.+)\\]\".format(param), str(form))\n",
    "\n",
    "def getData():\n",
    "    br = mechanize.Browser()\n",
    "    br.set_handle_robots(False)\n",
    "    res = br.open(url)\n",
    "    forms = mechanize.ParseResponse(res, backwards_compat=False)\n",
    "    form = forms[0]\n",
    "    form[\"ddlState\"] = [\"1\",]\n",
    "    form = updateForm(br, form)\n",
    "    options = getOptions(\"ddlCity\", form)\n",
    "    print options, form\n",
    "    return\n",
    "    form[\"ddlCity\"] = [\"21\",]\n",
    "    form = updateForm(br, form)\n",
    "    \n",
    "    form[\"ddlStation\"] = [\"96\",]\n",
    "    form = updateForm(br, form)\n",
    "    \n",
    "    form[\"lstBoxChannelLeft\"] = [\"1715\",]\n",
    "    form = updateForm(br, form)\n",
    "    \n",
    "    form[\"ddlCriteria\"] = [\"0\",]\n",
    "    form = updateForm(br, form)\n",
    "    \n",
    "    form[\"txtYear\"] = \"2013\"\n",
    "    form[\"txtYearTo\"] = \"2017\"\n",
    "    form = updateForm(br, form)\n",
    "    \n",
    "    form[\"btnSubmit\"] = \"True\"\n",
    "    form = updateForm(br, form)\n",
    "    \n",
    "    br.select_form(\"form1\")\n",
    "    res = br.submit(name='btnSubmit')\n",
    "    html = res.read()\n",
    "    soup = BeautifulSoup(html, 'html.parser')\n",
    "    return soup\n",
    "\n",
    "def updateForm(br, form):\n",
    "    res = br.open(form.click())\n",
    "    forms = mechanize.ParseResponse(res, backwards_compat=False)\n",
    "    form = forms[0]\n",
    "    return form\n",
    "\n",
    "def getValsHtml(table):\n",
    "    data = []\n",
    "    rows = table.find_all('tr')\n",
    "    for row in rows:\n",
    "        cols = row.find_all('td')\n",
    "        cols = [ele.text.strip() for ele in cols]\n",
    "        data.append([ele for ele in cols if ele]) # Get rid of empty values\n",
    "    vals = re.findall(\"\\d+\\.\\d+\", data[0][0])[:-1]\n",
    "    data = []\n",
    "    for val in vals:\n",
    "        yr = val[:4]\n",
    "        data.append([yr, val[4:]])\n",
    "    return data"
   ]
  },
  {
   "cell_type": "code",
   "execution_count": 82,
   "metadata": {
    "collapsed": false
   },
   "outputs": [
    {
     "name": "stdout",
     "output_type": "stream",
     "text": [
      "['*Select City, 21, 9'] <form1 POST http://www.cpcb.gov.in/CAAQM/frmUserAvgReportCriteria.aspx application/x-www-form-urlencoded\n",
      "  <HiddenControl(__VIEWSTATE=/wEPDwUJNDIxMTc4NDU4D2QWAgIDD2QWAgIDD2QWAgIDD2QWAmYPZBYcAgUPEA8WBh4NRGF0YVRleHRGaWVsZAUJU3RhdGVOYW1lHg5EYXRhVmFsdWVGaWVsZAUHU3RhdGVJRB4LXyFEYXRhQm91bmRnZBAVHwxTZWxlY3QgU3RhdGUOQW5kaHJhIFByYWRlc2gRQXJ1bmFjaGFsIFByYWRlc2gFQXNzYW0FQmloYXIMQ2hoYXR0aXNnYXJoBURlbGhpA0dvYQdHdWphcmF0B0hhcnlhbmEQSGltYWNoYWwgUHJhZGVzaBFKYW1tdSBhbmQgS2FzaG1pcglKaGFya2hhbmQJS2FybmF0YWthBktlcmFsYQ1NYWR5YSBQcmFkZXNoC01haGFyYXNodHJhB01hbmlwdXIJTWVnaGFsYXlhB01pem9yYW0ITmFnYWxhbmQGT3Jpc3NhBlB1bmphYglSYWphc3RoYW4GU2lra2ltClRhbWlsIE5hZHUHVHJpcHVyYQtVdHRhcmFuY2hhbA1VdHRhciBQcmFkZXNoC1dlc3QgQmVuZ2FsCVRlbGFuZ2FuYRUfDFNlbGVjdCBTdGF0ZQExATIBMwE0ATUBNgE3ATgBOQIxMAIxMQIxMgIxMwIxNAIxNQIxNgIxNwIxOAIxOQIyMAIyMQIyMgIyMwIyNAIyNQIyNgIyNwIyOAIyOQIzMBQrAx9nZ2dnZ2dnZ2dnZ2dnZ2dnZ2dnZ2dnZ2dnZ2dnZ2dnFgECAWQCBw8QDxYGHwAFCENpdHlOYW1lHwEFBkNpdHlJRB8CZ2QQFQMLU2VsZWN0IENpdHkIVGlydXBhdGkNVmlzYWtoYXBhdG5hbRUDC1NlbGVjdCBDaXR5AjIxATkUKwMDZ2dnFgFmZAIJDxAPFgYfAAULU3RhdGlvbk5hbWUfAQUJU3RhdGlvbklEHwJnZBAVABUAFCsDABYAZAILDxAPFgYfAAULQ2hhbm5lbE5hbWUfAQUJQ2hhbm5lbElEHwJnZBAVABUAFCsDAGRkAg0PD2QWAh4Hb25jbGljawUjamF2YXNjcmlwdDpyZXR1cm4gY2hja1NlbGVjdGlvbjEoKTtkAg8PD2QWAh8DBSNqYXZhc2NyaXB0OnJldHVybiBjaGNrU2VsZWN0aW9uMigpO2QCEw8QZBAVABUAFCsDAGRkAhUPEGRkFgFmZAIXDxBkZBYBZmQCGQ9kFgICAQ9kFggCAQ8QDxYGHwAFC0Rlc2NyaXB0aW9uHwEFCFRXQVZhbHVlHwJnZBAVCBxTZWxlY3QgVGltZSBXZWlnaHRlZCBBdmVyYWdlCTMwIE1pbnV0ZQgyNCBIb3VycwkxNSBNaW51dGUHOCBIb3Vycwc0IEhvdXJzBzEgSG91cnMPIEFubnVhbCBBdmVyYWdlFQgcU2VsZWN0IFRpbWUgV2VpZ2h0ZWQgQXZlcmFnZQIzMAIyNAIxNQE4ATQBMQEwFCsDCGdnZ2dnZ2dnFgECAmQCAg8QZGQWAWZkAgQPEGRkFgFmZAIFDxBkZBYBZmQCHQ8WAh4HVmlzaWJsZWgWAgIBD2QWBgIBDxBkZBYBAgtkAgMPEGRkFgFmZAIFDxBkZBYBZmQCIQ8WAh8EaBYCAgEPZBYGAgEPEGRkFgECCmQCAw8QZGQWAQIDZAIFDxBkZBYBAgFkAicPD2QWAh8DBSRqYXZhc2NyaXB0OnJldHVybiBjaGVja1ZhbGlhZHRpb24oKTtkAisPD2QWAh8DBRhqYXZhc2NyaXB0OnNlbGYuY2xvc2UoKTtkGAEFHl9fQ29udHJvbHNSZXF1aXJlUG9zdEJhY2tLZXlfXxYJBRFsc3RCb3hDaGFubmVsTGVmdAUGYnRuQWRkBQlidG5SZW1vdmUFEmxzdEJveENoYW5uZWxSaWdodAUKaW1nQnRuRnJvbQUIaW1nQnRuVG8FCWJ0blN1Ym1pdAUJYnRuQ2FuY2VsBQhidG5DbG9zZSgaq0iPQQeAl1sgFC5C/JlBUo80) (readonly)>\n",
      "  <HiddenControl(__EVENTVALIDATION=/wEWNgLesI/zCAKywKbbDwL57MiGDgL47MiGDgL77MiGDgL67MiGDgL97MiGDgL87MiGDgL/7MiGDgLu7MiGDgLh7MiGDgL57IiFDgL57ISFDgL57ICFDgL57LyFDgL57LiFDgL57LSFDgL57LCFDgL57KyFDgL57OiGDgL57OSGDgL47IiFDgL47ISFDgL47ICFDgL47LyFDgL47LiFDgL47LSFDgL47LCFDgL47KyFDgL47OiGDgL47OSGDgL77IiFDgKat5WbDgKmp76IAQK/p/KLAQKMk4HYDwLZ4/GuAgKBreNUAo+isZ4EArWm4fkIAtnbxpADAtrb9pADAtvb+pADAszbhpMDAtjbhpMDAtvbhpMDAsTbhpMDAte2/54DAsK6zIwCArWW8JULApqAzq0NAsKL2t4DApD0z+sFApP4+ZoILYpSf7wcd8EgITEvq0OW6DhXvz4=) (readonly)>\n",
      "  <SelectControl(ddlState=[Select State, *1, 2, 3, 4, 5, 6, 7, 8, 9, 10, 11, 12, 13, 14, 15, 16, 17, 18, 19, 20, 21, 22, 23, 24, 25, 26, 27, 28, 29, 30])>\n",
      "  <SelectControl(ddlCity=[*Select City, 21, 9])>\n",
      "  <SelectControl(ddlStation=[])>\n",
      "  <SelectControl(lstBoxChannelLeft=[])>\n",
      "  <ImageControl(btnAdd=)>\n",
      "  <ImageControl(btnRemove=)>\n",
      "  <SelectControl(lstBoxChannelRight=[])>\n",
      "  <SelectControl(ddlReportFormat=[*Tabular, Graph])>\n",
      "  <SelectControl(ddlCriteria=[Select Time Weighted Average, 30, *24, 15, 8, 4, 1, 0])>\n",
      "  <TextControl(txtDateFrom=26/01/2017)>\n",
      "  <ImageControl(imgBtnFrom=)>\n",
      "  <TextControl(txtDateTo=31/01/2017)>\n",
      "  <ImageControl(imgBtnTo=)>\n",
      "  <ImageControl(btnSubmit=)>\n",
      "  <ImageControl(btnCancel=)>\n",
      "  <ImageControl(btnClose=)>>\n"
     ]
    }
   ],
   "source": [
    "getData()"
   ]
  },
  {
   "cell_type": "code",
   "execution_count": 16,
   "metadata": {
    "collapsed": false
   },
   "outputs": [
    {
     "name": "stdout",
     "output_type": "stream",
     "text": [
      "[[u'2016', u'21.87'], [u'2017', u'23.62']]\n"
     ]
    }
   ],
   "source": [
    "soup = getData()\n",
    "table = soup.find(id=\"gvReportStation\")\n",
    "data = getValsHtml(table)\n",
    "print data"
   ]
  },
  {
   "cell_type": "code",
   "execution_count": 4,
   "metadata": {
    "collapsed": false
   },
   "outputs": [],
   "source": [
    "br.select_form(\"form1\")\n",
    "r1 = br.submit(name='btnSubmit')\n",
    "html = r1.read()\n",
    "soup = BeautifulSoup(html, 'html.parser')"
   ]
  },
  {
   "cell_type": "code",
   "execution_count": 15,
   "metadata": {
    "collapsed": false,
    "scrolled": false
   },
   "outputs": [],
   "source": []
  },
  {
   "cell_type": "code",
   "execution_count": 6,
   "metadata": {
    "collapsed": false
   },
   "outputs": [
    {
     "name": "stdout",
     "output_type": "stream",
     "text": [
      "2016 21.87\n",
      "2017 23.62\n"
     ]
    }
   ],
   "source": [
    "vals = re.findall(\"\\d+\\.\\d+\", data[0][0])[:-1]\n",
    "for val in vals:\n",
    "    yr = val[:4]\n",
    "    print yr, val[4:]"
   ]
  },
  {
   "cell_type": "code",
   "execution_count": null,
   "metadata": {
    "collapsed": true
   },
   "outputs": [],
   "source": []
  },
  {
   "cell_type": "code",
   "execution_count": null,
   "metadata": {
    "collapsed": true
   },
   "outputs": [],
   "source": []
  }
 ],
 "metadata": {
  "kernelspec": {
   "display_name": "Python 2",
   "language": "python",
   "name": "python2"
  },
  "language_info": {
   "codemirror_mode": {
    "name": "ipython",
    "version": 2
   },
   "file_extension": ".py",
   "mimetype": "text/x-python",
   "name": "python",
   "nbconvert_exporter": "python",
   "pygments_lexer": "ipython2",
   "version": "2.7.9"
  }
 },
 "nbformat": 4,
 "nbformat_minor": 0
}

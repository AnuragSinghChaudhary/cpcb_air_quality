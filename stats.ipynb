{
 "cells": [
  {
   "cell_type": "markdown",
   "metadata": {},
   "source": [
    "## Useful Links\n",
    "- http://www.cpcb.gov.in/CAAQM/frmUserAvgReportCriteria.aspx\n",
    "- http://www.cpcb.gov.in/CAAQM/mapPage/frmindiamap.aspx\n",
    "\n",
    "### Make Use of Beautiful Soup to automate fetching data\n",
    "- Historic Annual PM2.5, PM10 Plot\n",
    "    - INDIA - National\n",
    "    - Delhi NCR\n",
    "    - Delhi Location wise\n",
    "    - Gurgaon"
   ]
  },
  {
   "cell_type": "markdown",
   "metadata": {},
   "source": [
    "###Mechanize Links:\n",
    "   - http://www.search.sourceforge.net/mechanize/\n",
    "   - Forms Example: http://www.search.sourceforge.net/mechanize/forms.html\n",
    "   - BSoup Input Parsing: http://stackoverflow.com/questions/23001678/python-beautiful-soup-form-input-parsing"
   ]
  },
  {
   "cell_type": "code",
   "execution_count": 1,
   "metadata": {
    "collapsed": false
   },
   "outputs": [],
   "source": [
    "from bs4 import BeautifulSoup\n",
    "import mechanize\n",
    "import re"
   ]
  },
  {
   "cell_type": "code",
   "execution_count": 2,
   "metadata": {
    "collapsed": false
   },
   "outputs": [],
   "source": [
    "url = 'http://www.cpcb.gov.in/CAAQM/frmUserAvgReportCriteria.aspx'"
   ]
  },
  {
   "cell_type": "code",
   "execution_count": 3,
   "metadata": {
    "collapsed": false
   },
   "outputs": [],
   "source": [
    "br = mechanize.Browser()\n",
    "br.set_handle_robots(False)\n",
    "r1 = br.open(url)\n",
    "# print r1.read()  # body\n",
    "forms = mechanize.ParseResponse(r1, backwards_compat=False)\n",
    "form = forms[0]\n",
    "# print form\n",
    "\n",
    "form[\"ddlState\"] = [\"1\",]\n",
    "r1 = br.open(form.click())\n",
    "forms = mechanize.ParseResponse(r1, backwards_compat=False)\n",
    "form = forms[0]\n",
    "\n",
    "form[\"ddlCity\"] = [\"21\",]\n",
    "r1 = br.open(form.click())\n",
    "forms = mechanize.ParseResponse(r1, backwards_compat=False)\n",
    "form = forms[0]\n",
    "\n",
    "form[\"ddlStation\"] = [\"96\",]\n",
    "r1 = br.open(form.click())\n",
    "forms = mechanize.ParseResponse(r1, backwards_compat=False)\n",
    "form = forms[0]\n",
    "\n",
    "form[\"lstBoxChannelLeft\"] = [\"1715\",]\n",
    "r1 = br.open(form.click())\n",
    "forms = mechanize.ParseResponse(r1, backwards_compat=False)\n",
    "form = forms[0]\n",
    "\n",
    "form[\"ddlCriteria\"] = [\"0\",]\n",
    "r1 = br.open(form.click())\n",
    "forms = mechanize.ParseResponse(r1, backwards_compat=False)\n",
    "form = forms[0]\n",
    "\n",
    "form[\"txtYear\"] = \"2013\"\n",
    "form[\"txtYearTo\"] = \"2017\"\n",
    "r1 = br.open(form.click())\n",
    "forms = mechanize.ParseResponse(r1, backwards_compat=False)\n",
    "form = forms[0]\n",
    "\n",
    "form[\"btnSubmit\"] = \"True\"\n",
    "r1 = br.open(form.click())\n",
    "br.select_form(nr=0)\n",
    "r1 = br.submit()"
   ]
  },
  {
   "cell_type": "code",
   "execution_count": 76,
   "metadata": {
    "collapsed": false
   },
   "outputs": [],
   "source": [
    "def getOptions(param, form):\n",
    "    return re.findall(\"{}=\\[(.+)\\]\".format(param), str(form))\n",
    "\n",
    "#     Example Usage: \n",
    "#     soup = BeautifulSoup(html)\n",
    "#     getMap(soup, \"ddlState\")\n",
    "def getMap(soup, ty):\n",
    "    select_node = soup.findAll('select', attrs={'name': ty})\n",
    "    if not select_node:\n",
    "        select_node = soup.findAll('select', attrs={'id': ty})\n",
    "    print select_node\n",
    "    option_map = {}\n",
    "    if select_node:\n",
    "        for option in select_node[0].findAll('option'):\n",
    "            option_map[option['value']] = option.text\n",
    "    return option_map\n",
    "\n",
    "def getPM25Id(html):\n",
    "    return re.findall(\"<option value=(.+)>PM2\\.5(.+)</option>\", str(html))\n",
    "    \n",
    "def getStations(ddlState, ddlCity):\n",
    "    br = mechanize.Browser()\n",
    "    br.set_handle_robots(False)\n",
    "    res = br.open(url)\n",
    "    forms = mechanize.ParseResponse(res, backwards_compat=False)\n",
    "    form = forms[0]\n",
    "    # State\n",
    "    form[\"ddlState\"] = [\"{}\".format(ddlState),]\n",
    "    form, html = updateForm(br, form)\n",
    "    # City\n",
    "    form[\"ddlCity\"] = [\"{}\".format(ddlCity),]\n",
    "    form, html = updateForm(br, form)\n",
    "    \n",
    "    options = getOptions(\"ddlStation\", form)\n",
    "    options = options[0].split(',')[1:]\n",
    "    options = map(lambda x: x.strip(), options)\n",
    "    stations = options\n",
    "    print \"Stations for state = {} and city = {}:\".format(ddlState, ddlCity, stations\n",
    "\n",
    "def getData():\n",
    "    br = mechanize.Browser()\n",
    "    br.set_handle_robots(False)\n",
    "    res = br.open(url)\n",
    "    forms = mechanize.ParseResponse(res, backwards_compat=False)\n",
    "    form = forms[0]\n",
    "    # Delhi\n",
    "    form[\"ddlState\"] = [\"6\",]\n",
    "    form, html = updateForm(br, form)\n",
    "    # Delhi\n",
    "    form[\"ddlCity\"] = [\"85\",]\n",
    "    form, html = updateForm(br, form)\n",
    "    \n",
    "    #\n",
    "    options = getOptions(\"ddlStation\", form)\n",
    "    options = options[0].split(',')[1:]\n",
    "    options = map(lambda x: x.strip(), options)\n",
    "    stations = options\n",
    "    print \"Delhi Stations:\", stations\n",
    "\n",
    "    #\n",
    "    soups = []\n",
    "    #\n",
    "    for station in stations:\n",
    "        form[\"ddlStation\"] = [\"{}\".format(station),]\n",
    "        form, html = updateForm(br, form)\n",
    "        \n",
    "#         print html\n",
    "        print getPM25Id(html)\n",
    "        PM25Id = getPM25Id(html)[0][0][1:-1]\n",
    "        print \"PM2.5 Id =\", PM25Id\n",
    "\n",
    "        form[\"lstBoxChannelLeft\"] = [\"{}\".format(PM25Id),]\n",
    "        form, html = updateForm(br, form)\n",
    "\n",
    "        form[\"ddlCriteria\"] = [\"0\",]\n",
    "        form, html = updateForm(br, form)\n",
    "\n",
    "        form[\"txtYear\"] = \"2013\"\n",
    "        form[\"txtYearTo\"] = \"2017\"\n",
    "        form, html = updateForm(br, form)\n",
    "\n",
    "        form[\"btnSubmit\"] = \"True\"\n",
    "        form, html = updateForm(br, form)\n",
    "\n",
    "        br.select_form(\"form1\")\n",
    "        res = br.submit(name='btnSubmit')\n",
    "        html = res.read()\n",
    "        soup = BeautifulSoup(html, 'html.parser')\n",
    "        soups.append(soup)\n",
    "        \n",
    "    return soups\n",
    "\n",
    "def updateForm(br, form):\n",
    "    res = br.open(form.click())\n",
    "    html = res.get_data()\n",
    "    forms = mechanize.ParseResponse(res, backwards_compat=False)\n",
    "    form = forms[0]\n",
    "    return form, html\n",
    "\n",
    "def getValsHtml(table):\n",
    "    data = []\n",
    "    rows = table.find_all('tr')\n",
    "    for row in rows:\n",
    "        cols = row.find_all('td')\n",
    "        cols = [ele.text.strip() for ele in cols]\n",
    "        data.append([ele for ele in cols if ele]) # Get rid of empty values\n",
    "    vals = re.findall(\"\\d+\\.\\d+\", data[0][0])[:-1]\n",
    "    data = []\n",
    "    for val in vals:\n",
    "        yr = val[:4]\n",
    "        data.append([yr, val[4:]])\n",
    "    return data"
   ]
  },
  {
   "cell_type": "code",
   "execution_count": 77,
   "metadata": {
    "collapsed": false
   },
   "outputs": [
    {
     "name": "stdout",
     "output_type": "stream",
     "text": [
      "Delhi Stations: ['1', '2', '3', '4', '5', '6', '7', '45', '46', '47', '51', '52', '53', '54', '55', '58']\n"
     ]
    }
   ],
   "source": [
    "getStations(\"6\", \"85\")"
   ]
  },
  {
   "cell_type": "code",
   "execution_count": 75,
   "metadata": {
    "collapsed": false
   },
   "outputs": [
    {
     "name": "stdout",
     "output_type": "stream",
     "text": [
      "Delhi Stations: ['1', '2', '3', '4', '5', '6', '7', '45', '46', '47', '51', '52', '53', '54', '55', '58']\n",
      "[('\"506\"', '(Dust (PM2.5))')]\n",
      "PM2.5 Id = 506\n",
      "[('\"507\"', '(PM2.5)'), ('\"506\"', '(Dust (PM2.5))')]\n",
      "PM2.5 Id = 507\n",
      "[('\"508\"', '(PM2.5)'), ('\"506\"', '(Dust (PM2.5))'), ('\"507\"', '(PM2.5)')]\n",
      "PM2.5 Id = 508\n",
      "[('\"509\"', '(PM2.5)'), ('\"506\"', '(Dust (PM2.5))'), ('\"507\"', '(PM2.5)'), ('\"508\"', '(PM2.5)')]\n",
      "PM2.5 Id = 509\n",
      "[('\"506\"', '(Dust (PM2.5))'), ('\"507\"', '(PM2.5)'), ('\"508\"', '(PM2.5)'), ('\"509\"', '(PM2.5)')]\n",
      "PM2.5 Id = 506\n"
     ]
    },
    {
     "ename": "ItemNotFoundError",
     "evalue": "insufficient items with name '506'",
     "output_type": "error",
     "traceback": [
      "\u001b[0;31m---------------------------------------------------------------------------\u001b[0m",
      "\u001b[0;31mItemNotFoundError\u001b[0m                         Traceback (most recent call last)",
      "\u001b[0;32m<ipython-input-75-1bcd256688c7>\u001b[0m in \u001b[0;36m<module>\u001b[0;34m()\u001b[0m\n\u001b[0;32m----> 1\u001b[0;31m \u001b[0mgetData\u001b[0m\u001b[0;34m(\u001b[0m\u001b[0;34m)\u001b[0m\u001b[0;34m\u001b[0m\u001b[0m\n\u001b[0m",
      "\u001b[0;32m<ipython-input-74-32021ce0118e>\u001b[0m in \u001b[0;36mgetData\u001b[0;34m()\u001b[0m\n\u001b[1;32m     51\u001b[0m         \u001b[0;32mprint\u001b[0m \u001b[0;34m\"PM2.5 Id =\"\u001b[0m\u001b[0;34m,\u001b[0m \u001b[0mPM25Id\u001b[0m\u001b[0;34m\u001b[0m\u001b[0m\n\u001b[1;32m     52\u001b[0m \u001b[0;34m\u001b[0m\u001b[0m\n\u001b[0;32m---> 53\u001b[0;31m         \u001b[0mform\u001b[0m\u001b[0;34m[\u001b[0m\u001b[0;34m\"lstBoxChannelLeft\"\u001b[0m\u001b[0;34m]\u001b[0m \u001b[0;34m=\u001b[0m \u001b[0;34m[\u001b[0m\u001b[0;34m\"{}\"\u001b[0m\u001b[0;34m.\u001b[0m\u001b[0mformat\u001b[0m\u001b[0;34m(\u001b[0m\u001b[0mPM25Id\u001b[0m\u001b[0;34m)\u001b[0m\u001b[0;34m,\u001b[0m\u001b[0;34m]\u001b[0m\u001b[0;34m\u001b[0m\u001b[0m\n\u001b[0m\u001b[1;32m     54\u001b[0m         \u001b[0mform\u001b[0m\u001b[0;34m,\u001b[0m \u001b[0mhtml\u001b[0m \u001b[0;34m=\u001b[0m \u001b[0mupdateForm\u001b[0m\u001b[0;34m(\u001b[0m\u001b[0mbr\u001b[0m\u001b[0;34m,\u001b[0m \u001b[0mform\u001b[0m\u001b[0;34m)\u001b[0m\u001b[0;34m\u001b[0m\u001b[0m\n\u001b[1;32m     55\u001b[0m \u001b[0;34m\u001b[0m\u001b[0m\n",
      "\u001b[0;32m/Users/bhanuagarwal/anaconda/lib/python2.7/site-packages/mechanize/_form.pyc\u001b[0m in \u001b[0;36m__setitem__\u001b[0;34m(self, name, value)\u001b[0m\n\u001b[1;32m   2780\u001b[0m         \u001b[0mcontrol\u001b[0m \u001b[0;34m=\u001b[0m \u001b[0mself\u001b[0m\u001b[0;34m.\u001b[0m\u001b[0mfind_control\u001b[0m\u001b[0;34m(\u001b[0m\u001b[0mname\u001b[0m\u001b[0;34m)\u001b[0m\u001b[0;34m\u001b[0m\u001b[0m\n\u001b[1;32m   2781\u001b[0m         \u001b[0;32mtry\u001b[0m\u001b[0;34m:\u001b[0m\u001b[0;34m\u001b[0m\u001b[0m\n\u001b[0;32m-> 2782\u001b[0;31m             \u001b[0mcontrol\u001b[0m\u001b[0;34m.\u001b[0m\u001b[0mvalue\u001b[0m \u001b[0;34m=\u001b[0m \u001b[0mvalue\u001b[0m\u001b[0;34m\u001b[0m\u001b[0m\n\u001b[0m\u001b[1;32m   2783\u001b[0m         \u001b[0;32mexcept\u001b[0m \u001b[0mAttributeError\u001b[0m\u001b[0;34m,\u001b[0m \u001b[0me\u001b[0m\u001b[0;34m:\u001b[0m\u001b[0;34m\u001b[0m\u001b[0m\n\u001b[1;32m   2784\u001b[0m             \u001b[0;32mraise\u001b[0m \u001b[0mValueError\u001b[0m\u001b[0;34m(\u001b[0m\u001b[0mstr\u001b[0m\u001b[0;34m(\u001b[0m\u001b[0me\u001b[0m\u001b[0;34m)\u001b[0m\u001b[0;34m)\u001b[0m\u001b[0;34m\u001b[0m\u001b[0m\n",
      "\u001b[0;32m/Users/bhanuagarwal/anaconda/lib/python2.7/site-packages/mechanize/_form.pyc\u001b[0m in \u001b[0;36m__setattr__\u001b[0;34m(self, name, value)\u001b[0m\n\u001b[1;32m   1975\u001b[0m             \u001b[0;32mif\u001b[0m \u001b[0mself\u001b[0m\u001b[0;34m.\u001b[0m\u001b[0mreadonly\u001b[0m\u001b[0;34m:\u001b[0m\u001b[0;34m\u001b[0m\u001b[0m\n\u001b[1;32m   1976\u001b[0m                 \u001b[0;32mraise\u001b[0m \u001b[0mAttributeError\u001b[0m\u001b[0;34m(\u001b[0m\u001b[0;34m\"control '%s' is readonly\"\u001b[0m \u001b[0;34m%\u001b[0m \u001b[0mself\u001b[0m\u001b[0;34m.\u001b[0m\u001b[0mname\u001b[0m\u001b[0;34m)\u001b[0m\u001b[0;34m\u001b[0m\u001b[0m\n\u001b[0;32m-> 1977\u001b[0;31m             \u001b[0mself\u001b[0m\u001b[0;34m.\u001b[0m\u001b[0m_set_value\u001b[0m\u001b[0;34m(\u001b[0m\u001b[0mvalue\u001b[0m\u001b[0;34m)\u001b[0m\u001b[0;34m\u001b[0m\u001b[0m\n\u001b[0m\u001b[1;32m   1978\u001b[0m         \u001b[0;32melif\u001b[0m \u001b[0mname\u001b[0m \u001b[0;32min\u001b[0m \u001b[0;34m(\u001b[0m\u001b[0;34m\"name\"\u001b[0m\u001b[0;34m,\u001b[0m \u001b[0;34m\"type\"\u001b[0m\u001b[0;34m,\u001b[0m \u001b[0;34m\"multiple\"\u001b[0m\u001b[0;34m)\u001b[0m\u001b[0;34m:\u001b[0m\u001b[0;34m\u001b[0m\u001b[0m\n\u001b[1;32m   1979\u001b[0m             \u001b[0;32mraise\u001b[0m \u001b[0mAttributeError\u001b[0m\u001b[0;34m(\u001b[0m\u001b[0;34m\"%s attribute is readonly\"\u001b[0m \u001b[0;34m%\u001b[0m \u001b[0mname\u001b[0m\u001b[0;34m)\u001b[0m\u001b[0;34m\u001b[0m\u001b[0m\n",
      "\u001b[0;32m/Users/bhanuagarwal/anaconda/lib/python2.7/site-packages/mechanize/_form.pyc\u001b[0m in \u001b[0;36m_set_value\u001b[0;34m(self, value)\u001b[0m\n\u001b[1;32m   1990\u001b[0m                     \u001b[0mo\u001b[0m\u001b[0;34m.\u001b[0m\u001b[0mselected\u001b[0m \u001b[0;34m=\u001b[0m \u001b[0mFalse\u001b[0m\u001b[0;34m\u001b[0m\u001b[0m\n\u001b[1;32m   1991\u001b[0m         \u001b[0;32melif\u001b[0m \u001b[0mself\u001b[0m\u001b[0;34m.\u001b[0m\u001b[0mmultiple\u001b[0m\u001b[0;34m:\u001b[0m\u001b[0;34m\u001b[0m\u001b[0m\n\u001b[0;32m-> 1992\u001b[0;31m             \u001b[0mself\u001b[0m\u001b[0;34m.\u001b[0m\u001b[0m_multiple_set_value\u001b[0m\u001b[0;34m(\u001b[0m\u001b[0mvalue\u001b[0m\u001b[0;34m)\u001b[0m\u001b[0;34m\u001b[0m\u001b[0m\n\u001b[0m\u001b[1;32m   1993\u001b[0m         \u001b[0;32melif\u001b[0m \u001b[0mlen\u001b[0m\u001b[0;34m(\u001b[0m\u001b[0mvalue\u001b[0m\u001b[0;34m)\u001b[0m \u001b[0;34m>\u001b[0m \u001b[0;36m1\u001b[0m\u001b[0;34m:\u001b[0m\u001b[0;34m\u001b[0m\u001b[0m\n\u001b[1;32m   1994\u001b[0m             raise ItemCountError(\n",
      "\u001b[0;32m/Users/bhanuagarwal/anaconda/lib/python2.7/site-packages/mechanize/_form.pyc\u001b[0m in \u001b[0;36m_multiple_set_value\u001b[0;34m(self, value)\u001b[0m\n\u001b[1;32m   2036\u001b[0m                 \u001b[0mnames\u001b[0m\u001b[0;34m[\u001b[0m\u001b[0mnn\u001b[0m\u001b[0;34m]\u001b[0m \u001b[0;34m=\u001b[0m \u001b[0;36m1\u001b[0m\u001b[0;34m\u001b[0m\u001b[0m\n\u001b[1;32m   2037\u001b[0m         \u001b[0;32mfor\u001b[0m \u001b[0mname\u001b[0m\u001b[0;34m,\u001b[0m \u001b[0mcount\u001b[0m \u001b[0;32min\u001b[0m \u001b[0mnames\u001b[0m\u001b[0;34m.\u001b[0m\u001b[0mitems\u001b[0m\u001b[0;34m(\u001b[0m\u001b[0;34m)\u001b[0m\u001b[0;34m:\u001b[0m\u001b[0;34m\u001b[0m\u001b[0m\n\u001b[0;32m-> 2038\u001b[0;31m             \u001b[0mon\u001b[0m\u001b[0;34m,\u001b[0m \u001b[0moff\u001b[0m \u001b[0;34m=\u001b[0m \u001b[0mself\u001b[0m\u001b[0;34m.\u001b[0m\u001b[0m_get_items\u001b[0m\u001b[0;34m(\u001b[0m\u001b[0mname\u001b[0m\u001b[0;34m,\u001b[0m \u001b[0mcount\u001b[0m\u001b[0;34m)\u001b[0m\u001b[0;34m\u001b[0m\u001b[0m\n\u001b[0m\u001b[1;32m   2039\u001b[0m             \u001b[0;32mfor\u001b[0m \u001b[0mi\u001b[0m \u001b[0;32min\u001b[0m \u001b[0mrange\u001b[0m\u001b[0;34m(\u001b[0m\u001b[0mcount\u001b[0m\u001b[0;34m)\u001b[0m\u001b[0;34m:\u001b[0m\u001b[0;34m\u001b[0m\u001b[0m\n\u001b[1;32m   2040\u001b[0m                 \u001b[0;32mif\u001b[0m \u001b[0mon\u001b[0m\u001b[0;34m:\u001b[0m\u001b[0;34m\u001b[0m\u001b[0m\n",
      "\u001b[0;32m/Users/bhanuagarwal/anaconda/lib/python2.7/site-packages/mechanize/_form.pyc\u001b[0m in \u001b[0;36m_get_items\u001b[0;34m(self, name, target)\u001b[0m\n\u001b[1;32m   2004\u001b[0m             \u001b[0;32mif\u001b[0m \u001b[0mlen\u001b[0m\u001b[0;34m(\u001b[0m\u001b[0mall_items\u001b[0m\u001b[0;34m)\u001b[0m \u001b[0;34m<\u001b[0m \u001b[0mtarget\u001b[0m\u001b[0;34m:\u001b[0m\u001b[0;34m\u001b[0m\u001b[0m\n\u001b[1;32m   2005\u001b[0m                 raise ItemNotFoundError(\n\u001b[0;32m-> 2006\u001b[0;31m                     \"insufficient items with name %r\" % name)\n\u001b[0m\u001b[1;32m   2007\u001b[0m             \u001b[0;32melse\u001b[0m\u001b[0;34m:\u001b[0m\u001b[0;34m\u001b[0m\u001b[0m\n\u001b[1;32m   2008\u001b[0m                 raise AttributeError(\n",
      "\u001b[0;31mItemNotFoundError\u001b[0m: insufficient items with name '506'"
     ]
    }
   ],
   "source": [
    "getData()"
   ]
  },
  {
   "cell_type": "code",
   "execution_count": 73,
   "metadata": {
    "collapsed": false
   },
   "outputs": [
    {
     "name": "stdout",
     "output_type": "stream",
     "text": [
      "Delhi Stations: ['1', '2', '3', '4', '5', '6', '7', '45', '46', '47', '51', '52', '53', '54', '55', '58']\n",
      "[('\"506\"', '(Dust (PM2.5))')]\n",
      "PM2.5 Id = 506\n",
      "No Data available for this station\n"
     ]
    }
   ],
   "source": [
    "soups = getData()\n",
    "for soup in soups:\n",
    "    table = soup.find(id=\"gvReportStation\")\n",
    "    if table:\n",
    "        data = getValsHtml(table)\n",
    "        print data\n",
    "    else:\n",
    "        print \"No Data available for this station\""
   ]
  },
  {
   "cell_type": "code",
   "execution_count": 4,
   "metadata": {
    "collapsed": false
   },
   "outputs": [],
   "source": [
    "br.select_form(\"form1\")\n",
    "r1 = br.submit(name='btnSubmit')\n",
    "html = r1.read()\n",
    "soup = BeautifulSoup(html, 'html.parser')"
   ]
  },
  {
   "cell_type": "code",
   "execution_count": 15,
   "metadata": {
    "collapsed": false,
    "scrolled": false
   },
   "outputs": [],
   "source": []
  },
  {
   "cell_type": "code",
   "execution_count": 6,
   "metadata": {
    "collapsed": false
   },
   "outputs": [
    {
     "name": "stdout",
     "output_type": "stream",
     "text": [
      "2016 21.87\n",
      "2017 23.62\n"
     ]
    }
   ],
   "source": [
    "vals = re.findall(\"\\d+\\.\\d+\", data[0][0])[:-1]\n",
    "for val in vals:\n",
    "    yr = val[:4]\n",
    "    print yr, val[4:]"
   ]
  },
  {
   "cell_type": "code",
   "execution_count": null,
   "metadata": {
    "collapsed": true
   },
   "outputs": [],
   "source": []
  },
  {
   "cell_type": "code",
   "execution_count": null,
   "metadata": {
    "collapsed": true
   },
   "outputs": [],
   "source": []
  }
 ],
 "metadata": {
  "kernelspec": {
   "display_name": "Python 2",
   "language": "python",
   "name": "python2"
  },
  "language_info": {
   "codemirror_mode": {
    "name": "ipython",
    "version": 2
   },
   "file_extension": ".py",
   "mimetype": "text/x-python",
   "name": "python",
   "nbconvert_exporter": "python",
   "pygments_lexer": "ipython2",
   "version": "2.7.9"
  }
 },
 "nbformat": 4,
 "nbformat_minor": 0
}

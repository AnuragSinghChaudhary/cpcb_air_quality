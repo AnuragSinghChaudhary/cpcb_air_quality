{
 "cells": [
  {
   "cell_type": "code",
   "execution_count": 1,
   "metadata": {
    "collapsed": true
   },
   "outputs": [],
   "source": [
    "import numpy as np\n",
    "import gmaps\n",
    "import gmaps.datasets\n",
    "import os\n",
    "import requests\n",
    "from ipywidgets.embed import embed_minimal_html"
   ]
  },
  {
   "cell_type": "markdown",
   "metadata": {},
   "source": [
    "## Statistics:\n",
    "- Annual PM2.5 Average in India\n",
    "- Annual PM2.5 Average in New Delhi\n",
    "- Heat Map of PM2.5 Average in New Delhi for 2016\n",
    "- Heat Map of PM2.5 Averages in India for 2016\n",
    "- Most polluted and least polluted cities in India\n",
    "- Most polluted and least polluted neighborhoods in New Delhi"
   ]
  },
  {
   "cell_type": "code",
   "execution_count": 2,
   "metadata": {
    "collapsed": true
   },
   "outputs": [],
   "source": [
    "f = open('id-mappings/city-ids.txt', 'r')\n",
    "cities = f.readlines()\n",
    "cities = map(lambda elem: elem.split(\",\"), cities)[1:]\n",
    "cities = map(lambda elem: [elem[0], elem[1], elem[2], elem[3][:-1]], cities)\n",
    "cities = filter(lambda elem: elem[2].isdigit(), cities)"
   ]
  },
  {
   "cell_type": "code",
   "execution_count": 3,
   "metadata": {
    "collapsed": true
   },
   "outputs": [],
   "source": [
    "india_data = {}\n",
    "for elem in cities:\n",
    "    _, stateName, _, cityName = elem\n",
    "    f = open('data/{}_{}.txt'.format(stateName, cityName), 'r')\n",
    "    city_data = f.readlines()\n",
    "    city_data = filter(lambda elem: elem != \"\\n\", city_data)\n",
    "    city_data = map(lambda elem: elem.split(\",\"), city_data)\n",
    "    city_data = filter(lambda elem: elem[0] == \"2016\", city_data)\n",
    "    city_data = map(lambda elem: float(elem[1].rstrip(\"\\n\")), city_data)\n",
    "    if len(city_data) > 0:\n",
    "        india_data[(stateName, cityName)] = np.mean(city_data)\n"
   ]
  },
  {
   "cell_type": "code",
   "execution_count": 4,
   "metadata": {
    "collapsed": true
   },
   "outputs": [],
   "source": [
    "india_data = [[k, v] for (k, v) in india_data.iteritems()]\n",
    "india_data = sorted(india_data, key=lambda x: x[1])"
   ]
  },
  {
   "cell_type": "code",
   "execution_count": 5,
   "metadata": {
    "collapsed": true
   },
   "outputs": [],
   "source": [
    "gmaps.configure(api_key=os.environ[\"GOOGLE_API_KEY\"])"
   ]
  },
  {
   "cell_type": "code",
   "execution_count": 6,
   "metadata": {
    "collapsed": true
   },
   "outputs": [],
   "source": [
    "def decode_address_to_coordinates(address):\n",
    "        params = {\n",
    "                'address' : address,\n",
    "                'sensor' : 'false',\n",
    "        }  \n",
    "        url = 'http://maps.google.com/maps/api/geocode/json'\n",
    "        r = requests.get(url, params = params)\n",
    "        return r.json()['results'][0]['geometry']['location']"
   ]
  },
  {
   "cell_type": "code",
   "execution_count": 7,
   "metadata": {},
   "outputs": [
    {
     "name": "stdout",
     "output_type": "stream",
     "text": [
      "{u'lat': 28.6139391, u'lng': 77.2090212}\n"
     ]
    }
   ],
   "source": [
    "print decode_address_to_coordinates(\"New Delhi, Delhi\")"
   ]
  },
  {
   "cell_type": "code",
   "execution_count": 8,
   "metadata": {
    "collapsed": true
   },
   "outputs": [],
   "source": [
    "locations = []\n",
    "for (state, city), val in india_data:\n",
    "    locations.append([(state, city), decode_address_to_coordinates(\"{}, {}\".format(city, state)).values()])"
   ]
  },
  {
   "cell_type": "code",
   "execution_count": 9,
   "metadata": {},
   "outputs": [
    {
     "data": {
      "application/vnd.jupyter.widget-view+json": {
       "model_id": "0462079c4d784683b9055c59f12907ad",
       "version_major": 2,
       "version_minor": 0
      },
      "text/plain": [
       "A Jupyter Widget"
      ]
     },
     "metadata": {},
     "output_type": "display_data"
    }
   ],
   "source": [
    "india_coordinates = decode_address_to_coordinates(\"India\").values()\n",
    "fig = gmaps.figure(center=india_coordinates, zoom_level=4)\n",
    "\n",
    "weights = map(lambda x: x[1], india_data)\n",
    "coordinates = map(lambda x: x[1], locations)\n",
    "heatmap_layer = gmaps.heatmap_layer(coordinates, weights=weights)\n",
    "heatmap_layer.max_intensity = 200\n",
    "heatmap_layer.point_radius = 2.0\n",
    "heatmap_layer.dissipating = False\n",
    "fig.add_layer(heatmap_layer)\n",
    "\n",
    "info_box_template = \"\"\"\n",
    "<div>\n",
    "<p><b>City:</b> {0}, {1}</p>\n",
    "<p><b>PM2.5:</b> {2:.2f}</p>\n",
    "</div>\n",
    "\"\"\"\n",
    "city_info = [info_box_template.format(city_data[0][1], city_data[0][0], city_data[1]) for city_data in india_data]\n",
    "\n",
    "marker_layer = gmaps.marker_layer(coordinates, info_box_content=city_info)\n",
    "fig.add_layer(marker_layer)\n",
    "\n",
    "fig"
   ]
  },
  {
   "cell_type": "code",
   "execution_count": 10,
   "metadata": {
    "collapsed": true
   },
   "outputs": [],
   "source": [
    "embed_minimal_html('national-aq.html', views=[fig])"
   ]
  },
  {
   "cell_type": "code",
   "execution_count": null,
   "metadata": {
    "collapsed": true
   },
   "outputs": [],
   "source": []
  }
 ],
 "metadata": {
  "kernelspec": {
   "display_name": "Python 2",
   "language": "python",
   "name": "python2"
  },
  "language_info": {
   "codemirror_mode": {
    "name": "ipython",
    "version": 2
   },
   "file_extension": ".py",
   "mimetype": "text/x-python",
   "name": "python",
   "nbconvert_exporter": "python",
   "pygments_lexer": "ipython2",
   "version": "2.7.9"
  }
 },
 "nbformat": 4,
 "nbformat_minor": 1
}
